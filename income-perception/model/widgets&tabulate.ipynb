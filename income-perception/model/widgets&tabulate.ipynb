{
 "cells": [
  {
   "cell_type": "markdown",
   "id": "received-religious",
   "metadata": {},
   "source": [
    "https://ipywidgets.readthedocs.io/en/latest/\n",
    "\n",
    "https://stackoverflow.com/questions/42782902/clear-widget-area-of-a-cell-in-a-jupyter-notebook-from-within-notebook"
   ]
  },
  {
   "cell_type": "code",
   "execution_count": 1,
   "id": "acquired-intermediate",
   "metadata": {},
   "outputs": [
    {
     "data": {
      "application/javascript": [
       "// to avoid scroll in windows\n",
       "IPython.OutputArea.prototype._should_scroll = function(lines) {\n",
       "    return false;\n",
       "}\n"
      ],
      "text/plain": [
       "<IPython.core.display.Javascript object>"
      ]
     },
     "metadata": {},
     "output_type": "display_data"
    }
   ],
   "source": [
    "%%javascript\n",
    "// to avoid scroll in windows\n",
    "IPython.OutputArea.prototype._should_scroll = function(lines) {\n",
    "    return false;\n",
    "}"
   ]
  },
  {
   "cell_type": "code",
   "execution_count": 2,
   "id": "functional-values",
   "metadata": {},
   "outputs": [],
   "source": [
    "import ipywidgets as widgets\n",
    "from IPython.display import display, clear_output"
   ]
  },
  {
   "cell_type": "code",
   "execution_count": 3,
   "id": "negative-paragraph",
   "metadata": {},
   "outputs": [],
   "source": [
    "v1=widgets.IntSlider()"
   ]
  },
  {
   "cell_type": "code",
   "execution_count": 4,
   "id": "crazy-replica",
   "metadata": {},
   "outputs": [],
   "source": [
    "v1.max=2222"
   ]
  },
  {
   "cell_type": "code",
   "execution_count": 5,
   "id": "illegal-poker",
   "metadata": {},
   "outputs": [
    {
     "data": {
      "application/vnd.jupyter.widget-view+json": {
       "model_id": "acaf4890089c4140aa3c9d7c08bc5e09",
       "version_major": 2,
       "version_minor": 0
      },
      "text/plain": [
       "IntSlider(value=0, max=2222)"
      ]
     },
     "metadata": {},
     "output_type": "display_data"
    }
   ],
   "source": [
    "v1"
   ]
  },
  {
   "cell_type": "code",
   "execution_count": 6,
   "id": "distributed-profession",
   "metadata": {},
   "outputs": [
    {
     "data": {
      "text/plain": [
       "0"
      ]
     },
     "execution_count": 6,
     "metadata": {},
     "output_type": "execute_result"
    }
   ],
   "source": [
    "v1.value"
   ]
  },
  {
   "cell_type": "code",
   "execution_count": 7,
   "id": "super-stanford",
   "metadata": {},
   "outputs": [
    {
     "data": {
      "application/vnd.jupyter.widget-view+json": {
       "model_id": "6377cfabdbd1400fb426fb9fe53f2cbe",
       "version_major": 2,
       "version_minor": 0
      },
      "text/plain": [
       "Output()"
      ]
     },
     "metadata": {},
     "output_type": "display_data"
    }
   ],
   "source": [
    "def on_button_clicked(_):\n",
    "    with out:\n",
    "        clear_output()\n",
    "        print(v1.value)\n",
    "\n",
    "b = widgets.Button(\n",
    "    description='show v1',\n",
    "    disabled=False,\n",
    "    button_style='info',\n",
    "    tooltip='Click me',\n",
    "    icon='check'\n",
    ")\n",
    "#display(b)\n",
    "\n",
    "out = widgets.Output()\n",
    "display(out)\n",
    "\n",
    "\n",
    "b.on_click(on_button_clicked)"
   ]
  },
  {
   "cell_type": "code",
   "execution_count": 8,
   "id": "norwegian-airfare",
   "metadata": {},
   "outputs": [
    {
     "data": {
      "application/vnd.jupyter.widget-view+json": {
       "model_id": "ba5d0ed9d9f14f2c8fe8f27b394df9c5",
       "version_major": 2,
       "version_minor": 0
      },
      "text/plain": [
       "Button(button_style='info', description='show v1', icon='check', style=ButtonStyle(), tooltip='Click me')"
      ]
     },
     "metadata": {},
     "output_type": "display_data"
    }
   ],
   "source": [
    "display(b)"
   ]
  },
  {
   "cell_type": "markdown",
   "id": "military-cameroon",
   "metadata": {},
   "source": [
    "## tabulate\n",
    "\n",
    "https://github.com/gregbanks/python-tabulate\n",
    "\n",
    "https://github.com/gregbanks/python-tabulate\n",
    "\n",
    "https://pyneng.readthedocs.io/en/latest/book/12_useful_modules/tabulate.html"
   ]
  },
  {
   "cell_type": "code",
   "execution_count": 9,
   "id": "retired-underwear",
   "metadata": {},
   "outputs": [],
   "source": [
    "import tabulate as tb"
   ]
  },
  {
   "cell_type": "code",
   "execution_count": 10,
   "id": "italic-search",
   "metadata": {},
   "outputs": [],
   "source": [
    "s1=[11,12,13,14,15]\n",
    "s2=[21,24,27,30,33]"
   ]
  },
  {
   "cell_type": "code",
   "execution_count": 11,
   "id": "challenging-happening",
   "metadata": {},
   "outputs": [],
   "source": [
    "d1=widgets.IntSlider()\n",
    "d2=widgets.IntSlider()\n",
    "d1.max=4\n",
    "d2.max=4"
   ]
  },
  {
   "cell_type": "code",
   "execution_count": 12,
   "id": "historical-future",
   "metadata": {},
   "outputs": [
    {
     "data": {
      "application/vnd.jupyter.widget-view+json": {
       "model_id": "b60d43985a704a0698cbd9a6fdd9fb90",
       "version_major": 2,
       "version_minor": 0
      },
      "text/plain": [
       "IntSlider(value=0, max=4)"
      ]
     },
     "metadata": {},
     "output_type": "display_data"
    }
   ],
   "source": [
    "d1"
   ]
  },
  {
   "cell_type": "code",
   "execution_count": 13,
   "id": "stuffed-beatles",
   "metadata": {},
   "outputs": [
    {
     "data": {
      "application/vnd.jupyter.widget-view+json": {
       "model_id": "59877482842747289fc2a811d2aefae3",
       "version_major": 2,
       "version_minor": 0
      },
      "text/plain": [
       "IntSlider(value=0, max=4)"
      ]
     },
     "metadata": {},
     "output_type": "display_data"
    }
   ],
   "source": [
    "d2"
   ]
  },
  {
   "cell_type": "raw",
   "id": "cellular-transition",
   "metadata": {},
   "source": [
    "data = [[\"prima\",s1[d1.value],s2[d2.value]-s1[d1.value]],\n",
    "         [\"seconda\",s2[d1.value],s1[d2.value]-s2[d1.value]]]"
   ]
  },
  {
   "cell_type": "raw",
   "id": "protective-concern",
   "metadata": {},
   "source": [
    "data"
   ]
  },
  {
   "cell_type": "code",
   "execution_count": 14,
   "id": "copyrighted-british",
   "metadata": {},
   "outputs": [
    {
     "data": {
      "application/vnd.jupyter.widget-view+json": {
       "model_id": "982d0276a24e465eb87d0b579e70a03f",
       "version_major": 2,
       "version_minor": 0
      },
      "text/plain": [
       "Button(button_style='info', description='show data', icon='check', style=ButtonStyle(), tooltip='Click me')"
      ]
     },
     "metadata": {},
     "output_type": "display_data"
    },
    {
     "data": {
      "application/vnd.jupyter.widget-view+json": {
       "model_id": "2d12a660e13e4263a16fe0da11faeb87",
       "version_major": 2,
       "version_minor": 0
      },
      "text/plain": [
       "Output()"
      ]
     },
     "metadata": {},
     "output_type": "display_data"
    }
   ],
   "source": [
    "def on_button_clicked(_):\n",
    "    with out:\n",
    "        clear_output()\n",
    "        data = [[\"col 1\",\"col 2\"],\n",
    "                [\"prima\",s1[d1.value],s2[d2.value]-s1[d1.value]],\n",
    "                [\"seconda\",s2[d1.value],s1[d2.value]-s2[d1.value]]]\n",
    "        table = tb.tabulate(data, tablefmt='grid',headers=\"firstrow\")\n",
    "        #table = tb.tabulate(data, tablefmt='html',headers=\"firstrow\")\n",
    "        #table = tb.tabulate(data, tablefmt='latex',headers=\"firstrow\")\n",
    "        print(table)\n",
    "\n",
    "bb = widgets.Button(\n",
    "    description='show data',\n",
    "    disabled=False,\n",
    "    button_style='info',\n",
    "    tooltip='Click me',\n",
    "    icon='check'\n",
    ")\n",
    "display(bb)\n",
    "\n",
    "out = widgets.Output()\n",
    "display(out)\n",
    "\n",
    "\n",
    "bb.on_click(on_button_clicked)"
   ]
  },
  {
   "cell_type": "code",
   "execution_count": 15,
   "id": "signed-wells",
   "metadata": {},
   "outputs": [
    {
     "name": "stdout",
     "output_type": "stream",
     "text": [
      "Help on module tabulate:\n",
      "\n",
      "NAME\n",
      "    tabulate - Pretty-print tabular data.\n",
      "\n",
      "FUNCTIONS\n",
      "    simple_separated_format(separator)\n",
      "        Construct a simple TableFormat with columns separated by a separator.\n",
      "        \n",
      "        >>> tsv = simple_separated_format(\"\\t\") ;         tabulate([[\"foo\", 1], [\"spam\", 23]], tablefmt=tsv) == 'foo \\t 1\\nspam\\t23'\n",
      "        True\n",
      "    \n",
      "    tabulate(tabular_data, headers=(), tablefmt='simple', floatfmt='g', numalign='default', stralign='default', missingval='', showindex='default', disable_numparse=False, colalign=None)\n",
      "        Format a fixed width table for pretty printing.\n",
      "        \n",
      "        >>> print(tabulate([[1, 2.34], [-56, \"8.999\"], [\"2\", \"10001\"]]))\n",
      "        ---  ---------\n",
      "          1      2.34\n",
      "        -56      8.999\n",
      "          2  10001\n",
      "        ---  ---------\n",
      "        \n",
      "        The first required argument (`tabular_data`) can be a\n",
      "        list-of-lists (or another iterable of iterables), a list of named\n",
      "        tuples, a dictionary of iterables, an iterable of dictionaries,\n",
      "        a two-dimensional NumPy array, NumPy record array, or a Pandas'\n",
      "        dataframe.\n",
      "        \n",
      "        \n",
      "        Table headers\n",
      "        -------------\n",
      "        \n",
      "        To print nice column headers, supply the second argument (`headers`):\n",
      "        \n",
      "          - `headers` can be an explicit list of column headers\n",
      "          - if `headers=\"firstrow\"`, then the first row of data is used\n",
      "          - if `headers=\"keys\"`, then dictionary keys or column indices are used\n",
      "        \n",
      "        Otherwise a headerless table is produced.\n",
      "        \n",
      "        If the number of headers is less than the number of columns, they\n",
      "        are supposed to be names of the last columns. This is consistent\n",
      "        with the plain-text format of R and Pandas' dataframes.\n",
      "        \n",
      "        >>> print(tabulate([[\"sex\",\"age\"],[\"Alice\",\"F\",24],[\"Bob\",\"M\",19]],\n",
      "        ...       headers=\"firstrow\"))\n",
      "               sex      age\n",
      "        -----  -----  -----\n",
      "        Alice  F         24\n",
      "        Bob    M         19\n",
      "        \n",
      "        By default, pandas.DataFrame data have an additional column called\n",
      "        row index. To add a similar column to all other types of data,\n",
      "        use `showindex=\"always\"` or `showindex=True`. To suppress row indices\n",
      "        for all types of data, pass `showindex=\"never\" or `showindex=False`.\n",
      "        To add a custom row index column, pass `showindex=some_iterable`.\n",
      "        \n",
      "        >>> print(tabulate([[\"F\",24],[\"M\",19]], showindex=\"always\"))\n",
      "        -  -  --\n",
      "        0  F  24\n",
      "        1  M  19\n",
      "        -  -  --\n",
      "        \n",
      "        \n",
      "        Column alignment\n",
      "        ----------------\n",
      "        \n",
      "        `tabulate` tries to detect column types automatically, and aligns\n",
      "        the values properly. By default it aligns decimal points of the\n",
      "        numbers (or flushes integer numbers to the right), and flushes\n",
      "        everything else to the left. Possible column alignments\n",
      "        (`numalign`, `stralign`) are: \"right\", \"center\", \"left\", \"decimal\"\n",
      "        (only for `numalign`), and None (to disable alignment).\n",
      "        \n",
      "        \n",
      "        Table formats\n",
      "        -------------\n",
      "        \n",
      "        `floatfmt` is a format specification used for columns which\n",
      "        contain numeric data with a decimal point. This can also be\n",
      "        a list or tuple of format strings, one per column.\n",
      "        \n",
      "        `None` values are replaced with a `missingval` string (like\n",
      "        `floatfmt`, this can also be a list of values for different\n",
      "        columns):\n",
      "        \n",
      "        >>> print(tabulate([[\"spam\", 1, None],\n",
      "        ...                 [\"eggs\", 42, 3.14],\n",
      "        ...                 [\"other\", None, 2.7]], missingval=\"?\"))\n",
      "        -----  --  ----\n",
      "        spam    1  ?\n",
      "        eggs   42  3.14\n",
      "        other   ?  2.7\n",
      "        -----  --  ----\n",
      "        \n",
      "        Various plain-text table formats (`tablefmt`) are supported:\n",
      "        'plain', 'simple', 'grid', 'pipe', 'orgtbl', 'rst', 'mediawiki',\n",
      "        'latex', 'latex_raw', 'latex_booktabs', 'latex_longtable' and tsv.\n",
      "        Variable `tabulate_formats`contains the list of currently supported formats.\n",
      "        \n",
      "        \"plain\" format doesn't use any pseudographics to draw tables,\n",
      "        it separates columns with a double space:\n",
      "        \n",
      "        >>> print(tabulate([[\"spam\", 41.9999], [\"eggs\", \"451.0\"]],\n",
      "        ...                 [\"strings\", \"numbers\"], \"plain\"))\n",
      "        strings      numbers\n",
      "        spam         41.9999\n",
      "        eggs        451\n",
      "        \n",
      "        >>> print(tabulate([[\"spam\", 41.9999], [\"eggs\", \"451.0\"]], tablefmt=\"plain\"))\n",
      "        spam   41.9999\n",
      "        eggs  451\n",
      "        \n",
      "        \"simple\" format is like Pandoc simple_tables:\n",
      "        \n",
      "        >>> print(tabulate([[\"spam\", 41.9999], [\"eggs\", \"451.0\"]],\n",
      "        ...                 [\"strings\", \"numbers\"], \"simple\"))\n",
      "        strings      numbers\n",
      "        ---------  ---------\n",
      "        spam         41.9999\n",
      "        eggs        451\n",
      "        \n",
      "        >>> print(tabulate([[\"spam\", 41.9999], [\"eggs\", \"451.0\"]], tablefmt=\"simple\"))\n",
      "        ----  --------\n",
      "        spam   41.9999\n",
      "        eggs  451\n",
      "        ----  --------\n",
      "        \n",
      "        \"grid\" is similar to tables produced by Emacs table.el package or\n",
      "        Pandoc grid_tables:\n",
      "        \n",
      "        >>> print(tabulate([[\"spam\", 41.9999], [\"eggs\", \"451.0\"]],\n",
      "        ...                [\"strings\", \"numbers\"], \"grid\"))\n",
      "        +-----------+-----------+\n",
      "        | strings   |   numbers |\n",
      "        +===========+===========+\n",
      "        | spam      |   41.9999 |\n",
      "        +-----------+-----------+\n",
      "        | eggs      |  451      |\n",
      "        +-----------+-----------+\n",
      "        \n",
      "        >>> print(tabulate([[\"spam\", 41.9999], [\"eggs\", \"451.0\"]], tablefmt=\"grid\"))\n",
      "        +------+----------+\n",
      "        | spam |  41.9999 |\n",
      "        +------+----------+\n",
      "        | eggs | 451      |\n",
      "        +------+----------+\n",
      "        \n",
      "        \"fancy_grid\" draws a grid using box-drawing characters:\n",
      "        \n",
      "        >>> print(tabulate([[\"spam\", 41.9999], [\"eggs\", \"451.0\"]],\n",
      "        ...                [\"strings\", \"numbers\"], \"fancy_grid\"))\n",
      "        ╒═══════════╤═══════════╕\n",
      "        │ strings   │   numbers │\n",
      "        ╞═══════════╪═══════════╡\n",
      "        │ spam      │   41.9999 │\n",
      "        ├───────────┼───────────┤\n",
      "        │ eggs      │  451      │\n",
      "        ╘═══════════╧═══════════╛\n",
      "        \n",
      "        \"pipe\" is like tables in PHP Markdown Extra extension or Pandoc\n",
      "        pipe_tables:\n",
      "        \n",
      "        >>> print(tabulate([[\"spam\", 41.9999], [\"eggs\", \"451.0\"]],\n",
      "        ...                [\"strings\", \"numbers\"], \"pipe\"))\n",
      "        | strings   |   numbers |\n",
      "        |:----------|----------:|\n",
      "        | spam      |   41.9999 |\n",
      "        | eggs      |  451      |\n",
      "        \n",
      "        \"presto\" is like tables produce by the Presto CLI:\n",
      "        \n",
      "        >>> print(tabulate([[\"spam\", 41.9999], [\"eggs\", \"451.0\"]],\n",
      "        ...                [\"strings\", \"numbers\"], \"presto\"))\n",
      "         strings   |   numbers\n",
      "        -----------+-----------\n",
      "         spam      |   41.9999\n",
      "         eggs      |  451\n",
      "        \n",
      "        >>> print(tabulate([[\"spam\", 41.9999], [\"eggs\", \"451.0\"]], tablefmt=\"pipe\"))\n",
      "        |:-----|---------:|\n",
      "        | spam |  41.9999 |\n",
      "        | eggs | 451      |\n",
      "        \n",
      "        \"orgtbl\" is like tables in Emacs org-mode and orgtbl-mode. They\n",
      "        are slightly different from \"pipe\" format by not using colons to\n",
      "        define column alignment, and using a \"+\" sign to indicate line\n",
      "        intersections:\n",
      "        \n",
      "        >>> print(tabulate([[\"spam\", 41.9999], [\"eggs\", \"451.0\"]],\n",
      "        ...                [\"strings\", \"numbers\"], \"orgtbl\"))\n",
      "        | strings   |   numbers |\n",
      "        |-----------+-----------|\n",
      "        | spam      |   41.9999 |\n",
      "        | eggs      |  451      |\n",
      "        \n",
      "        \n",
      "        >>> print(tabulate([[\"spam\", 41.9999], [\"eggs\", \"451.0\"]], tablefmt=\"orgtbl\"))\n",
      "        | spam |  41.9999 |\n",
      "        | eggs | 451      |\n",
      "        \n",
      "        \"rst\" is like a simple table format from reStructuredText; please\n",
      "        note that reStructuredText accepts also \"grid\" tables:\n",
      "        \n",
      "        >>> print(tabulate([[\"spam\", 41.9999], [\"eggs\", \"451.0\"]],\n",
      "        ...                [\"strings\", \"numbers\"], \"rst\"))\n",
      "        =========  =========\n",
      "        strings      numbers\n",
      "        =========  =========\n",
      "        spam         41.9999\n",
      "        eggs        451\n",
      "        =========  =========\n",
      "        \n",
      "        >>> print(tabulate([[\"spam\", 41.9999], [\"eggs\", \"451.0\"]], tablefmt=\"rst\"))\n",
      "        ====  ========\n",
      "        spam   41.9999\n",
      "        eggs  451\n",
      "        ====  ========\n",
      "        \n",
      "        \"mediawiki\" produces a table markup used in Wikipedia and on other\n",
      "        MediaWiki-based sites:\n",
      "        \n",
      "        >>> print(tabulate([[\"strings\", \"numbers\"], [\"spam\", 41.9999], [\"eggs\", \"451.0\"]],\n",
      "        ...                headers=\"firstrow\", tablefmt=\"mediawiki\"))\n",
      "        {| class=\"wikitable\" style=\"text-align: left;\"\n",
      "        |+ <!-- caption -->\n",
      "        |-\n",
      "        ! strings   !! align=\"right\"|   numbers\n",
      "        |-\n",
      "        | spam      || align=\"right\"|   41.9999\n",
      "        |-\n",
      "        | eggs      || align=\"right\"|  451\n",
      "        |}\n",
      "        \n",
      "        \"html\" produces HTML markup as an html.escape'd str\n",
      "        with a ._repr_html_ method so that Jupyter Lab and Notebook display the HTML\n",
      "        and a .str property so that the raw HTML remains accessible\n",
      "        the unsafehtml table format can be used if an unescaped HTML format is required:\n",
      "        \n",
      "        >>> print(tabulate([[\"strings\", \"numbers\"], [\"spam\", 41.9999], [\"eggs\", \"451.0\"]],\n",
      "        ...                headers=\"firstrow\", tablefmt=\"html\"))\n",
      "        <table>\n",
      "        <thead>\n",
      "        <tr><th>strings  </th><th style=\"text-align: right;\">  numbers</th></tr>\n",
      "        </thead>\n",
      "        <tbody>\n",
      "        <tr><td>spam     </td><td style=\"text-align: right;\">  41.9999</td></tr>\n",
      "        <tr><td>eggs     </td><td style=\"text-align: right;\"> 451     </td></tr>\n",
      "        </tbody>\n",
      "        </table>\n",
      "        \n",
      "        \"latex\" produces a tabular environment of LaTeX document markup:\n",
      "        \n",
      "        >>> print(tabulate([[\"spam\", 41.9999], [\"eggs\", \"451.0\"]], tablefmt=\"latex\"))\n",
      "        \\begin{tabular}{lr}\n",
      "        \\hline\n",
      "         spam &  41.9999 \\\\\n",
      "         eggs & 451      \\\\\n",
      "        \\hline\n",
      "        \\end{tabular}\n",
      "        \n",
      "        \"latex_raw\" is similar to \"latex\", but doesn't escape special characters,\n",
      "        such as backslash and underscore, so LaTeX commands may embedded into\n",
      "        cells' values:\n",
      "        \n",
      "        >>> print(tabulate([[\"spam$_9$\", 41.9999], [\"\\\\emph{eggs}\", \"451.0\"]], tablefmt=\"latex_raw\"))\n",
      "        \\begin{tabular}{lr}\n",
      "        \\hline\n",
      "         spam$_9$    &  41.9999 \\\\\n",
      "         \\emph{eggs} & 451      \\\\\n",
      "        \\hline\n",
      "        \\end{tabular}\n",
      "        \n",
      "        \"latex_booktabs\" produces a tabular environment of LaTeX document markup\n",
      "        using the booktabs.sty package:\n",
      "        \n",
      "        >>> print(tabulate([[\"spam\", 41.9999], [\"eggs\", \"451.0\"]], tablefmt=\"latex_booktabs\"))\n",
      "        \\begin{tabular}{lr}\n",
      "        \\toprule\n",
      "         spam &  41.9999 \\\\\n",
      "         eggs & 451      \\\\\n",
      "        \\bottomrule\n",
      "        \\end{tabular}\n",
      "        \n",
      "        \"latex_longtable\" produces a tabular environment that can stretch along\n",
      "        multiple pages, using the longtable package for LaTeX.\n",
      "        \n",
      "        >>> print(tabulate([[\"spam\", 41.9999], [\"eggs\", \"451.0\"]], tablefmt=\"latex_longtable\"))\n",
      "        \\begin{longtable}{lr}\n",
      "        \\hline\n",
      "         spam &  41.9999 \\\\\n",
      "         eggs & 451      \\\\\n",
      "        \\hline\n",
      "        \\end{longtable}\n",
      "        \n",
      "        \n",
      "        Number parsing\n",
      "        --------------\n",
      "        By default, anything which can be parsed as a number is a number.\n",
      "        This ensures numbers represented as strings are aligned properly.\n",
      "        This can lead to weird results for particular strings such as\n",
      "        specific git SHAs e.g. \"42992e1\" will be parsed into the number\n",
      "        429920 and aligned as such.\n",
      "        \n",
      "        To completely disable number parsing (and alignment), use\n",
      "        `disable_numparse=True`. For more fine grained control, a list column\n",
      "        indices is used to disable number parsing only on those columns\n",
      "        e.g. `disable_numparse=[0, 2]` would disable number parsing only on the\n",
      "        first and third columns.\n",
      "\n",
      "DATA\n",
      "    __all__ = ['tabulate', 'tabulate_formats', 'simple_separated_format']\n",
      "    tabulate_formats = ['fancy_grid', 'fancy_outline', 'github', 'grid', '...\n",
      "\n",
      "VERSION\n",
      "    0.8.9\n",
      "\n",
      "FILE\n",
      "    /Library/Frameworks/Python.framework/Versions/3.9/lib/python3.9/site-packages/tabulate.py\n",
      "\n",
      "\n"
     ]
    }
   ],
   "source": [
    "help(tb)"
   ]
  },
  {
   "cell_type": "code",
   "execution_count": null,
   "id": "running-virginia",
   "metadata": {},
   "outputs": [],
   "source": []
  }
 ],
 "metadata": {
  "kernelspec": {
   "display_name": "Python 3",
   "language": "python",
   "name": "python3"
  },
  "language_info": {
   "codemirror_mode": {
    "name": "ipython",
    "version": 3
   },
   "file_extension": ".py",
   "mimetype": "text/x-python",
   "name": "python",
   "nbconvert_exporter": "python",
   "pygments_lexer": "ipython3",
   "version": "3.9.7"
  }
 },
 "nbformat": 4,
 "nbformat_minor": 5
}
